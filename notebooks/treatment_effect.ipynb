{
 "cells": [
  {
   "cell_type": "code",
   "execution_count": 5,
   "metadata": {},
   "outputs": [],
   "source": [
    "import sys, os\n",
    "root_dir = os.path.abspath(os.path.join(os.getcwd(), '..'))\n",
    "sys.path.append(root_dir)\n",
    "from src.data.synthetic_dataset import MarkovianHeteroDynamicDataset\n",
    "import numpy as np\n",
    "from omegaconf import DictConfig, OmegaConf\n",
    "params = {\n",
    "    'n_units':10,\n",
    "    'n_periods':3,\n",
    "    'sequence_length':6,\n",
    "    'n_x':10,\n",
    "    'n_treatments':2,\n",
    "    's_x':40,\n",
    "    's_t':1,\n",
    "    'sigma_x':0.5,\n",
    "    'sigma_t':0.5,\n",
    "    'sigma_y':1.0,\n",
    "    'gamma':0.2,\n",
    "    'autoreg':0.25,\n",
    "    'state_effect': 0.25,\n",
    "    'hetero_strength':0.5,\n",
    "    'hetero_inds':[8, 9],\n",
    "    'conf_str': 5,\n",
    "    'train_val_split':0.8,\n",
    "    'seed':2024\n",
    "}\n",
    "dictconfig = OmegaConf.create(params)\n",
    "dataset = MarkovianHeteroDynamicDataset(dictconfig)"
   ]
  },
  {
   "cell_type": "code",
   "execution_count": 6,
   "metadata": {},
   "outputs": [],
   "source": [
    "Y_obs, T_obs, X_obs = dataset.generate_observational_data()\n",
    "T_intv = np.ones((dataset.n_periods, params['n_treatments']))\n",
    "T_base = np.zeros((dataset.n_periods, params['n_treatments']))"
   ]
  },
  {
   "cell_type": "code",
   "execution_count": 7,
   "metadata": {},
   "outputs": [],
   "source": [
    "computed_effect = dataset.compute_treatment_effect(T_intv, T_base)"
   ]
  },
  {
   "cell_type": "code",
   "execution_count": 8,
   "metadata": {},
   "outputs": [
    {
     "data": {
      "text/plain": [
       "array([[1.19514041, 1.08064844, 1.54551722, 1.13485549],\n",
       "       [1.57175071, 0.96373379, 1.28561419, 1.78461289],\n",
       "       [1.53418676, 1.39184915, 0.98335063, 1.04426429],\n",
       "       [1.31051117, 1.18474239, 0.78236685, 1.09016039],\n",
       "       [1.52361413, 1.1400899 , 1.08616167, 2.02469077],\n",
       "       [0.88906735, 1.32301276, 1.82041255, 1.48606231],\n",
       "       [1.88490196, 1.04810296, 1.04737194, 1.26500802],\n",
       "       [1.66046518, 1.36262972, 1.20551524, 1.6540534 ],\n",
       "       [1.41547781, 1.3504944 , 1.03554458, 0.58633424],\n",
       "       [1.44950104, 1.39179079, 2.0852993 , 1.13456156]])"
      ]
     },
     "execution_count": 8,
     "metadata": {},
     "output_type": "execute_result"
    }
   ],
   "source": [
    "de = dataset.compute_individual_dynamic_effects(X_obs[:10,:, :])\n",
    "def compute_TE_from_de(dynamic_effects, T_intv, T_base):\n",
    "    #dynamic_effects (N, SL - m + 1, m, n_t)\n",
    "    #T_intv (m, n_t)\n",
    "    T_diff = (T_intv - T_base).reshape((1, 1, T_intv.shape[0], T_intv.shape[1]))\n",
    "    return (dynamic_effects * T_diff).sum((-2, -1))\n",
    "te = compute_TE_from_de(de, T_intv, T_base)\n",
    "te"
   ]
  },
  {
   "cell_type": "code",
   "execution_count": 9,
   "metadata": {},
   "outputs": [
    {
     "data": {
      "text/plain": [
       "array([[1.19514041, 1.08064844, 1.54551722, 1.13485549],\n",
       "       [1.57175071, 0.96373379, 1.28561419, 1.78461289],\n",
       "       [1.53418676, 1.39184915, 0.98335063, 1.04426429],\n",
       "       [1.31051117, 1.18474239, 0.78236685, 1.09016039],\n",
       "       [1.52361413, 1.1400899 , 1.08616167, 2.02469077],\n",
       "       [0.88906735, 1.32301276, 1.82041255, 1.48606231],\n",
       "       [1.88490196, 1.04810296, 1.04737194, 1.26500802],\n",
       "       [1.66046518, 1.36262972, 1.20551524, 1.6540534 ],\n",
       "       [1.41547781, 1.3504944 , 1.03554458, 0.58633424],\n",
       "       [1.44950104, 1.39179079, 2.0852993 , 1.13456156]])"
      ]
     },
     "execution_count": 9,
     "metadata": {},
     "output_type": "execute_result"
    }
   ],
   "source": [
    "computed_effect"
   ]
  },
  {
   "cell_type": "code",
   "execution_count": 14,
   "metadata": {},
   "outputs": [
    {
     "data": {
      "text/plain": [
       "(1, 1, 3, 2)"
      ]
     },
     "execution_count": 14,
     "metadata": {},
     "output_type": "execute_result"
    }
   ],
   "source": [
    "(T_intv - T_base).reshape((1, 1, params['n_periods'], params['n_treatments'])).shape"
   ]
  },
  {
   "cell_type": "code",
   "execution_count": 10,
   "metadata": {},
   "outputs": [
    {
     "data": {
      "text/plain": [
       "6.350037038353347"
      ]
     },
     "execution_count": 10,
     "metadata": {},
     "output_type": "execute_result"
    }
   ],
   "source": [
    "de[:, 0, :, :].sum()"
   ]
  },
  {
   "cell_type": "code",
   "execution_count": null,
   "metadata": {},
   "outputs": [],
   "source": []
  }
 ],
 "metadata": {
  "kernelspec": {
   "display_name": "R-learner",
   "language": "python",
   "name": "python3"
  },
  "language_info": {
   "codemirror_mode": {
    "name": "ipython",
    "version": 3
   },
   "file_extension": ".py",
   "mimetype": "text/x-python",
   "name": "python",
   "nbconvert_exporter": "python",
   "pygments_lexer": "ipython3",
   "version": "3.10.15"
  }
 },
 "nbformat": 4,
 "nbformat_minor": 2
}
