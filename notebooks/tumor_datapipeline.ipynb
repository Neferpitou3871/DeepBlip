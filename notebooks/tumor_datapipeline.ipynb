{
 "cells": [
  {
   "cell_type": "code",
   "execution_count": 1,
   "metadata": {},
   "outputs": [
    {
     "name": "stderr",
     "output_type": "stream",
     "text": [
      "c:\\Users\\mhr_k\\miniconda3\\envs\\R-learner\\lib\\site-packages\\tqdm\\auto.py:21: TqdmWarning: IProgress not found. Please update jupyter and ipywidgets. See https://ipywidgets.readthedocs.io/en/stable/user_install.html\n",
      "  from .autonotebook import tqdm as notebook_tqdm\n"
     ]
    }
   ],
   "source": [
    "import sys,os\n",
    "sys.path.append(os.path.abspath(os.path.join(os.getcwd(), '..')))\n",
    "from src.data.cancer_sim.tumor_dataset_pipeline import TumorGrowthDatasetPipeline\n",
    "import omegaconf\n",
    "import numpy as np\n",
    "import matplotlib.pyplot as plt\n",
    "from hydra.utils import instantiate, get_original_cwd\n",
    "config_path = '../config/dataset/tumor_debug.yaml'\n"
   ]
  },
  {
   "cell_type": "code",
   "execution_count": 2,
   "metadata": {},
   "outputs": [
    {
     "name": "stderr",
     "output_type": "stream",
     "text": [
      "  0%|          | 0/3000 [00:00<?, ?it/s]c:\\Users\\mhr_k\\OneDrive\\Documents\\Thesis\\Neural-R-Learner\\src\\data\\cancer_sim\\simulation.py:324: RuntimeWarning: overflow encountered in exp\n",
      "  if recovery_rvs[i, t] < np.exp(-cancer_volume[i, t] * TUMOUR_CELL_DENSITY):\n",
      "100%|██████████| 3000/3000 [00:01<00:00, 2342.00it/s]\n"
     ]
    }
   ],
   "source": [
    "args = omegaconf.OmegaConf.load(config_path)\n",
    "args.dataset.seed = 2026\n",
    "args.dataset.n_units = 3000\n",
    "data_pipeline = instantiate(args.dataset)"
   ]
  },
  {
   "cell_type": "code",
   "execution_count": 3,
   "metadata": {},
   "outputs": [
    {
     "data": {
      "text/plain": [
       "(array([21., 24., 45., 38., 36., 56., 38., 30., 45., 51., 49., 45., 57.,\n",
       "        45., 55., 54., 54., 57., 43., 58., 57., 48., 38., 41., 37., 38.,\n",
       "        31., 44., 45., 33., 23., 48., 30., 41., 41., 31., 41., 39., 39.,\n",
       "        46., 33., 45., 44., 36., 32., 34., 41., 31., 42., 47., 37., 16.,\n",
       "        17., 19., 18., 17., 20., 21., 23., 19., 32., 15., 21., 17., 20.,\n",
       "        20., 18., 22., 21., 17., 15., 18., 18., 12., 19., 23., 21., 11.,\n",
       "        12., 16., 24., 14., 15., 14., 23., 13., 16., 20., 18., 23., 21.,\n",
       "        12., 14., 12., 19., 17., 16., 22., 16., 19.]),\n",
       " array([ 0.5248633 ,  1.17380693,  1.82275056,  2.47169419,  3.12063782,\n",
       "         3.76958145,  4.41852508,  5.06746871,  5.71641234,  6.36535597,\n",
       "         7.0142996 ,  7.66324323,  8.31218686,  8.96113049,  9.61007412,\n",
       "        10.25901775, 10.90796138, 11.55690501, 12.20584864, 12.85479227,\n",
       "        13.5037359 , 14.15267953, 14.80162316, 15.45056679, 16.09951042,\n",
       "        16.74845405, 17.39739768, 18.04634131, 18.69528494, 19.34422857,\n",
       "        19.9931722 , 20.64211583, 21.29105947, 21.9400031 , 22.58894673,\n",
       "        23.23789036, 23.88683399, 24.53577762, 25.18472125, 25.83366488,\n",
       "        26.48260851, 27.13155214, 27.78049577, 28.4294394 , 29.07838303,\n",
       "        29.72732666, 30.37627029, 31.02521392, 31.67415755, 32.32310118,\n",
       "        32.97204481, 33.62098844, 34.26993207, 34.9188757 , 35.56781933,\n",
       "        36.21676296, 36.86570659, 37.51465022, 38.16359385, 38.81253748,\n",
       "        39.46148111, 40.11042474, 40.75936837, 41.408312  , 42.05725563,\n",
       "        42.70619926, 43.35514289, 44.00408652, 44.65303015, 45.30197378,\n",
       "        45.95091741, 46.59986104, 47.24880467, 47.8977483 , 48.54669193,\n",
       "        49.19563556, 49.84457919, 50.49352282, 51.14246645, 51.79141008,\n",
       "        52.44035371, 53.08929734, 53.73824097, 54.3871846 , 55.03612823,\n",
       "        55.68507186, 56.33401549, 56.98295912, 57.63190275, 58.28084638,\n",
       "        58.92979001, 59.57873364, 60.22767727, 60.8766209 , 61.52556453,\n",
       "        62.17450816, 62.82345179, 63.47239542, 64.12133905, 64.77028268,\n",
       "        65.41922631]),\n",
       " <BarContainer object of 100 artists>)"
      ]
     },
     "execution_count": 3,
     "metadata": {},
     "output_type": "execute_result"
    },
    {
     "data": {
      "image/png": "[encoded data removed]",
      "text/plain": [
       "<Figure size 640x480 with 1 Axes>"
      ]
     },
     "metadata": {},
     "output_type": "display_data"
    }
   ],
   "source": [
    "params = data_pipeline.params\n",
    "initial_vols = params['initial_volumes']\n",
    "plt.hist(initial_vols, bins=100)"
   ]
  },
  {
   "cell_type": "code",
   "execution_count": 4,
   "metadata": {},
   "outputs": [
    {
     "name": "stdout",
     "output_type": "stream",
     "text": [
      "treatment_seq: [[1. 1.]\n",
      " [1. 1.]\n",
      " [1. 1.]]\n",
      "treatment_seq: [[0. 0.]\n",
      " [0. 0.]\n",
      " [0. 0.]]\n"
     ]
    },
    {
     "name": "stderr",
     "output_type": "stream",
     "text": [
      "c:\\Users\\mhr_k\\OneDrive\\Documents\\Thesis\\Neural-R-Learner\\src\\data\\cancer_sim\\simulation.py:444: RuntimeWarning: overflow encountered in exp\n",
      "  recovery_idx = np.exp(-ctf_volume[:, t + k] * TUMOUR_CELL_DENSITY) > 0.95\n"
     ]
    },
    {
     "data": {
      "text/plain": [
       "(450, 28)"
      ]
     },
     "execution_count": 4,
     "metadata": {},
     "output_type": "execute_result"
    }
   ],
   "source": [
    "T_intv = np.ones((args.dataset.n_periods, 2))\n",
    "T_base = np.zeros((args.dataset.n_periods, 2))\n",
    "y_intv = data_pipeline._simulate_counterfactuals('test', T_intv)\n",
    "y_base = data_pipeline._simulate_counterfactuals('test', T_base)\n",
    "te_1 = y_intv - y_base\n",
    "te_1.shape"
   ]
  },
  {
   "cell_type": "code",
   "execution_count": 5,
   "metadata": {},
   "outputs": [
    {
     "data": {
      "text/plain": [
       "(450, 28)"
      ]
     },
     "execution_count": 5,
     "metadata": {},
     "output_type": "execute_result"
    }
   ],
   "source": [
    "test_index = data_pipeline.index['test']\n",
    "ind_de = data_pipeline.compute_individual_true_dynamic_effects(data_pipeline.data['cancer_volume'][test_index])\n",
    "te_2 = (ind_de * np.expand_dims(np.expand_dims((T_intv - T_base), axis = 0), axis = 0)).sum(axis = (2, 3))\n",
    "te_2.shape"
   ]
  },
  {
   "cell_type": "code",
   "execution_count": 6,
   "metadata": {},
   "outputs": [
    {
     "data": {
      "text/plain": [
       "array([0.00587236, 0.00587236, 0.00587236, 0.00587236, 0.00587236,\n",
       "       0.00587236, 0.00587236, 0.00587236, 0.00587236, 0.00587236,\n",
       "       0.00587236, 0.00587236, 0.00587236, 0.00587236, 0.00587236,\n",
       "       0.00587236, 0.00587236, 0.00587236, 0.00587236, 0.00587236,\n",
       "       0.00587236, 0.00587236, 0.00587236, 0.00587236, 0.00587236,\n",
       "       0.00587236, 0.00587236, 0.00587236])"
      ]
     },
     "execution_count": 6,
     "metadata": {},
     "output_type": "execute_result"
    }
   ],
   "source": [
    "((te_1 - te_2)**2 / te_1**2).mean(axis = 0)"
   ]
  },
  {
   "cell_type": "code",
   "execution_count": null,
   "metadata": {},
   "outputs": [],
   "source": []
  }
 ],
 "metadata": {
  "kernelspec": {
   "display_name": "R-learner",
   "language": "python",
   "name": "python3"
  },
  "language_info": {
   "codemirror_mode": {
    "name": "ipython",
    "version": 3
   },
   "file_extension": ".py",
   "mimetype": "text/x-python",
   "name": "python",
   "nbconvert_exporter": "python",
   "pygments_lexer": "ipython3",
   "version": "3.10.15"
  }
 },
 "nbformat": 4,
 "nbformat_minor": 2
}
