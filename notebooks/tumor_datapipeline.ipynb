{
 "cells": [
  {
   "cell_type": "code",
   "execution_count": 1,
   "metadata": {},
   "outputs": [
    {
     "name": "stderr",
     "output_type": "stream",
     "text": [
      "c:\\Users\\mhr_k\\miniconda3\\envs\\R-learner\\lib\\site-packages\\tqdm\\auto.py:21: TqdmWarning: IProgress not found. Please update jupyter and ipywidgets. See https://ipywidgets.readthedocs.io/en/stable/user_install.html\n",
      "  from .autonotebook import tqdm as notebook_tqdm\n"
     ]
    }
   ],
   "source": [
    "import sys,os\n",
    "sys.path.append(os.path.abspath(os.path.join(os.getcwd(), '..')))\n",
    "from src.data.cancer_sim.tumor_dataset_pipeline import TumorGrowthDatasetPipeline\n",
    "import omegaconf\n",
    "import numpy as np\n",
    "from hydra.utils import instantiate, get_original_cwd\n",
    "config_path = '../config/dataset/tumor_debug.yaml'\n"
   ]
  },
  {
   "cell_type": "code",
   "execution_count": 2,
   "metadata": {},
   "outputs": [
    {
     "name": "stderr",
     "output_type": "stream",
     "text": [
      "  0%|          | 0/100 [00:00<?, ?it/s]c:\\Users\\mhr_k\\OneDrive\\Documents\\Thesis\\Neural-R-Learner\\src\\data\\cancer_sim\\simulation.py:324: RuntimeWarning: overflow encountered in exp\n",
      "  if recovery_rvs[i, t] < np.exp(-cancer_volume[i, t] * TUMOUR_CELL_DENSITY):\n",
      "100%|██████████| 100/100 [00:00<00:00, 2855.37it/s]\n"
     ]
    }
   ],
   "source": [
    "args = omegaconf.OmegaConf.load(config_path)\n",
    "args.dataset.seed = 2026\n",
    "data_pipeline = instantiate(args.dataset)"
   ]
  },
  {
   "cell_type": "code",
   "execution_count": 3,
   "metadata": {},
   "outputs": [],
   "source": [
    "test_data = data_pipeline.test_data"
   ]
  },
  {
   "cell_type": "code",
   "execution_count": 6,
   "metadata": {},
   "outputs": [
    {
     "name": "stdout",
     "output_type": "stream",
     "text": [
      "treatment_seq: [[1. 1.]\n",
      " [1. 1.]\n",
      " [1. 1.]]\n",
      "treatment_seq: [[0. 0.]\n",
      " [0. 0.]\n",
      " [0. 0.]]\n"
     ]
    },
    {
     "name": "stderr",
     "output_type": "stream",
     "text": [
      "c:\\Users\\mhr_k\\OneDrive\\Documents\\Thesis\\Neural-R-Learner\\src\\data\\cancer_sim\\simulation.py:444: RuntimeWarning: overflow encountered in exp\n",
      "  recovery_idx = np.exp(-ctf_volume[:, t + k] * TUMOUR_CELL_DENSITY) > 0.95\n"
     ]
    },
    {
     "data": {
      "text/plain": [
       "(15, 28)"
      ]
     },
     "execution_count": 6,
     "metadata": {},
     "output_type": "execute_result"
    }
   ],
   "source": [
    "T_intv = np.ones((args.dataset.n_periods, 2))\n",
    "T_base = np.zeros((args.dataset.n_periods, 2))\n",
    "y_intv = data_pipeline._simulate_counterfactuals('test', T_intv)\n",
    "y_base = data_pipeline._simulate_counterfactuals('test', T_base)\n",
    "te_1 = y_intv - y_base\n",
    "te_1.shape"
   ]
  },
  {
   "cell_type": "code",
   "execution_count": 4,
   "metadata": {},
   "outputs": [
    {
     "data": {
      "text/plain": [
       "(15, 28)"
      ]
     },
     "execution_count": 4,
     "metadata": {},
     "output_type": "execute_result"
    }
   ],
   "source": [
    "test_index = data_pipeline.index['test']\n",
    "ind_de = data_pipeline.compute_individual_true_dynamic_effects(data_pipeline.data['cancer_volume'][test_index])\n",
    "te_2 = (ind_de * np.expand_dims(np.expand_dims((T_intv - T_base), axis = 0), axis = 0)).sum(axis = (2, 3))\n",
    "te_2.shape"
   ]
  },
  {
   "cell_type": "code",
   "execution_count": 7,
   "metadata": {},
   "outputs": [
    {
     "data": {
      "text/plain": [
       "array([0.00399983, 0.00399984, 0.00399983, 0.00399983, 0.00399983,\n",
       "       0.00399983, 0.00399983, 0.00399983, 0.00399983, 0.00399983,\n",
       "       0.00399983, 0.00399983, 0.00399983, 0.00399983, 0.00399983,\n",
       "       0.00399983, 0.00399983, 0.00399983, 0.00399983, 0.00399983,\n",
       "       0.00399983, 0.00399983, 0.00399983, 0.00399983, 0.00399983,\n",
       "       0.00399983, 0.00399983, 0.00399983])"
      ]
     },
     "execution_count": 7,
     "metadata": {},
     "output_type": "execute_result"
    }
   ],
   "source": [
    "((te_1 - te_2)**2 / te_1**2).mean(axis = 0)"
   ]
  },
  {
   "cell_type": "code",
   "execution_count": null,
   "metadata": {},
   "outputs": [],
   "source": []
  }
 ],
 "metadata": {
  "kernelspec": {
   "display_name": "R-learner",
   "language": "python",
   "name": "python3"
  },
  "language_info": {
   "codemirror_mode": {
    "name": "ipython",
    "version": 3
   },
   "file_extension": ".py",
   "mimetype": "text/x-python",
   "name": "python",
   "nbconvert_exporter": "python",
   "pygments_lexer": "ipython3",
   "version": "3.10.15"
  }
 },
 "nbformat": 4,
 "nbformat_minor": 2
}
